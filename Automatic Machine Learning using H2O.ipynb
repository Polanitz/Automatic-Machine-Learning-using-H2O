{
 "cells": [
  {
   "cell_type": "code",
   "execution_count": 1,
   "metadata": {},
   "outputs": [
    {
     "name": "stdout",
     "output_type": "stream",
     "text": [
      "Requirement already satisfied: requests in c:\\programdata\\anaconda3\\lib\\site-packages (2.22.0)\n",
      "Requirement already satisfied: idna<2.9,>=2.5 in c:\\programdata\\anaconda3\\lib\\site-packages (from requests) (2.8)\n",
      "Requirement already satisfied: chardet<3.1.0,>=3.0.2 in c:\\programdata\\anaconda3\\lib\\site-packages (from requests) (3.0.4)\n",
      "Requirement already satisfied: certifi>=2017.4.17 in c:\\programdata\\anaconda3\\lib\\site-packages (from requests) (2020.6.20)\n",
      "Requirement already satisfied: urllib3!=1.25.0,!=1.25.1,<1.26,>=1.21.1 in c:\\programdata\\anaconda3\\lib\\site-packages (from requests) (1.24.2)\n",
      "Note: you may need to restart the kernel to use updated packages.\n"
     ]
    }
   ],
   "source": [
    "pip install requests"
   ]
  },
  {
   "cell_type": "code",
   "execution_count": 2,
   "metadata": {},
   "outputs": [
    {
     "name": "stdout",
     "output_type": "stream",
     "text": [
      "Requirement already satisfied: tabulate in c:\\programdata\\anaconda3\\lib\\site-packages (0.8.7)\n",
      "Note: you may need to restart the kernel to use updated packages.\n"
     ]
    }
   ],
   "source": [
    "pip install tabulate"
   ]
  },
  {
   "cell_type": "code",
   "execution_count": 3,
   "metadata": {},
   "outputs": [
    {
     "name": "stdout",
     "output_type": "stream",
     "text": [
      "Requirement already satisfied: colorama>=0.3.8 in c:\\programdata\\anaconda3\\lib\\site-packages (0.4.1)\n",
      "Note: you may need to restart the kernel to use updated packages.\n"
     ]
    }
   ],
   "source": [
    "pip install \"colorama>=0.3.8\""
   ]
  },
  {
   "cell_type": "code",
   "execution_count": 4,
   "metadata": {},
   "outputs": [
    {
     "name": "stdout",
     "output_type": "stream",
     "text": [
      "Requirement already satisfied: future in c:\\programdata\\anaconda3\\lib\\site-packages (0.18.2)\n",
      "Note: you may need to restart the kernel to use updated packages.\n"
     ]
    }
   ],
   "source": [
    "pip install future"
   ]
  },
  {
   "cell_type": "code",
   "execution_count": 5,
   "metadata": {},
   "outputs": [
    {
     "name": "stdout",
     "output_type": "stream",
     "text": [
      "Looking in links: http://h2o-release.s3.amazonaws.com/h2o/latest_stable_Py.html\n",
      "Requirement already satisfied: h2o in c:\\users\\רועי\\appdata\\roaming\\python\\python37\\site-packages (3.30.1.2)\n",
      "Requirement already satisfied: colorama>=0.3.8 in c:\\programdata\\anaconda3\\lib\\site-packages (from h2o) (0.4.1)\n",
      "Requirement already satisfied: tabulate in c:\\programdata\\anaconda3\\lib\\site-packages (from h2o) (0.8.7)\n",
      "Requirement already satisfied: future in c:\\programdata\\anaconda3\\lib\\site-packages (from h2o) (0.18.2)\n",
      "Requirement already satisfied: requests in c:\\programdata\\anaconda3\\lib\\site-packages (from h2o) (2.22.0)\n",
      "Requirement already satisfied: certifi>=2017.4.17 in c:\\programdata\\anaconda3\\lib\\site-packages (from requests->h2o) (2020.6.20)\n",
      "Requirement already satisfied: idna<2.9,>=2.5 in c:\\programdata\\anaconda3\\lib\\site-packages (from requests->h2o) (2.8)\n",
      "Requirement already satisfied: urllib3!=1.25.0,!=1.25.1,<1.26,>=1.21.1 in c:\\programdata\\anaconda3\\lib\\site-packages (from requests->h2o) (1.24.2)\n",
      "Requirement already satisfied: chardet<3.1.0,>=3.0.2 in c:\\programdata\\anaconda3\\lib\\site-packages (from requests->h2o) (3.0.4)\n",
      "Note: you may need to restart the kernel to use updated packages.\n"
     ]
    }
   ],
   "source": [
    "pip install -f http://h2o-release.s3.amazonaws.com/h2o/latest_stable_Py.html h2o --user"
   ]
  },
  {
   "cell_type": "code",
   "execution_count": 6,
   "metadata": {},
   "outputs": [],
   "source": [
    "import h2o"
   ]
  },
  {
   "cell_type": "code",
   "execution_count": 8,
   "metadata": {},
   "outputs": [
    {
     "name": "stdout",
     "output_type": "stream",
     "text": [
      "Checking whether there is an H2O instance running at http://localhost:54321 . connected.\n"
     ]
    },
    {
     "data": {
      "text/html": [
       "<div style=\"overflow:auto\"><table style=\"width:50%\"><tr><td>H2O_cluster_uptime:</td>\n",
       "<td>37 secs</td></tr>\n",
       "<tr><td>H2O_cluster_timezone:</td>\n",
       "<td>Asia/Jerusalem</td></tr>\n",
       "<tr><td>H2O_data_parsing_timezone:</td>\n",
       "<td>UTC</td></tr>\n",
       "<tr><td>H2O_cluster_version:</td>\n",
       "<td>3.30.1.2</td></tr>\n",
       "<tr><td>H2O_cluster_version_age:</td>\n",
       "<td>1 month and 10 days </td></tr>\n",
       "<tr><td>H2O_cluster_name:</td>\n",
       "<td>H2O_from_python_׳¨׳•׳¢׳™_9soams</td></tr>\n",
       "<tr><td>H2O_cluster_total_nodes:</td>\n",
       "<td>1</td></tr>\n",
       "<tr><td>H2O_cluster_free_memory:</td>\n",
       "<td>1.742 Gb</td></tr>\n",
       "<tr><td>H2O_cluster_total_cores:</td>\n",
       "<td>8</td></tr>\n",
       "<tr><td>H2O_cluster_allowed_cores:</td>\n",
       "<td>8</td></tr>\n",
       "<tr><td>H2O_cluster_status:</td>\n",
       "<td>locked, healthy</td></tr>\n",
       "<tr><td>H2O_connection_url:</td>\n",
       "<td>http://localhost:54321</td></tr>\n",
       "<tr><td>H2O_connection_proxy:</td>\n",
       "<td>{\"http\": null, \"https\": null}</td></tr>\n",
       "<tr><td>H2O_internal_security:</td>\n",
       "<td>False</td></tr>\n",
       "<tr><td>H2O_API_Extensions:</td>\n",
       "<td>Amazon S3, Algos, AutoML, Core V3, TargetEncoder, Core V4</td></tr>\n",
       "<tr><td>Python_version:</td>\n",
       "<td>3.7.4 final</td></tr></table></div>"
      ],
      "text/plain": [
       "--------------------------  ---------------------------------------------------------\n",
       "H2O_cluster_uptime:         37 secs\n",
       "H2O_cluster_timezone:       Asia/Jerusalem\n",
       "H2O_data_parsing_timezone:  UTC\n",
       "H2O_cluster_version:        3.30.1.2\n",
       "H2O_cluster_version_age:    1 month and 10 days\n",
       "H2O_cluster_name:           H2O_from_python_׳¨׳•׳¢׳™_9soams\n",
       "H2O_cluster_total_nodes:    1\n",
       "H2O_cluster_free_memory:    1.742 Gb\n",
       "H2O_cluster_total_cores:    8\n",
       "H2O_cluster_allowed_cores:  8\n",
       "H2O_cluster_status:         locked, healthy\n",
       "H2O_connection_url:         http://localhost:54321\n",
       "H2O_connection_proxy:       {\"http\": null, \"https\": null}\n",
       "H2O_internal_security:      False\n",
       "H2O_API_Extensions:         Amazon S3, Algos, AutoML, Core V3, TargetEncoder, Core V4\n",
       "Python_version:             3.7.4 final\n",
       "--------------------------  ---------------------------------------------------------"
      ]
     },
     "metadata": {},
     "output_type": "display_data"
    }
   ],
   "source": [
    "h2o.init()"
   ]
  },
  {
   "cell_type": "markdown",
   "metadata": {},
   "source": [
    "# 2. Importing Data with H2O in Python"
   ]
  },
  {
   "cell_type": "markdown",
   "metadata": {},
   "source": [
    "## 2.1. Data Import"
   ]
  },
  {
   "cell_type": "code",
   "execution_count": 9,
   "metadata": {},
   "outputs": [
    {
     "data": {
      "text/plain": [
       "'C:\\\\Users\\\\רועי'"
      ]
     },
     "execution_count": 9,
     "metadata": {},
     "output_type": "execute_result"
    }
   ],
   "source": [
    "import os\n",
    "cwd = os.getcwd()\n",
    "cwd"
   ]
  },
  {
   "cell_type": "code",
   "execution_count": 10,
   "metadata": {},
   "outputs": [
    {
     "name": "stdout",
     "output_type": "stream",
     "text": [
      "Parse progress: |█████████████████████████████████████████████████████████| 100%\n"
     ]
    }
   ],
   "source": [
    "wine_data = h2o.import_file(\"C:\\\\PY\\\\winequality-white.csv\")"
   ]
  },
  {
   "cell_type": "code",
   "execution_count": 11,
   "metadata": {},
   "outputs": [
    {
     "data": {
      "text/html": [
       "<table>\n",
       "<thead>\n",
       "<tr><th style=\"text-align: right;\">  fixed acidity</th><th style=\"text-align: right;\">  volatile acidity</th><th style=\"text-align: right;\">  citric acid</th><th style=\"text-align: right;\">  residual sugar</th><th style=\"text-align: right;\">  chlorides</th><th style=\"text-align: right;\">  free sulfur dioxide</th><th style=\"text-align: right;\">  total sulfur dioxide</th><th style=\"text-align: right;\">  density</th><th style=\"text-align: right;\">  pH</th><th style=\"text-align: right;\">  sulphates</th><th style=\"text-align: right;\">  alcohol</th><th style=\"text-align: right;\">  quality</th></tr>\n",
       "</thead>\n",
       "<tbody>\n",
       "<tr><td style=\"text-align: right;\">            7  </td><td style=\"text-align: right;\">              0.27</td><td style=\"text-align: right;\">         0.36</td><td style=\"text-align: right;\">            20.7</td><td style=\"text-align: right;\">      0.045</td><td style=\"text-align: right;\">                   45</td><td style=\"text-align: right;\">                   170</td><td style=\"text-align: right;\">   1.001 </td><td style=\"text-align: right;\">3   </td><td style=\"text-align: right;\">       0.45</td><td style=\"text-align: right;\">      8.8</td><td style=\"text-align: right;\">        6</td></tr>\n",
       "<tr><td style=\"text-align: right;\">            6.3</td><td style=\"text-align: right;\">              0.3 </td><td style=\"text-align: right;\">         0.34</td><td style=\"text-align: right;\">             1.6</td><td style=\"text-align: right;\">      0.049</td><td style=\"text-align: right;\">                   14</td><td style=\"text-align: right;\">                   132</td><td style=\"text-align: right;\">   0.994 </td><td style=\"text-align: right;\">3.3 </td><td style=\"text-align: right;\">       0.49</td><td style=\"text-align: right;\">      9.5</td><td style=\"text-align: right;\">        6</td></tr>\n",
       "<tr><td style=\"text-align: right;\">            8.1</td><td style=\"text-align: right;\">              0.28</td><td style=\"text-align: right;\">         0.4 </td><td style=\"text-align: right;\">             6.9</td><td style=\"text-align: right;\">      0.05 </td><td style=\"text-align: right;\">                   30</td><td style=\"text-align: right;\">                    97</td><td style=\"text-align: right;\">   0.9951</td><td style=\"text-align: right;\">3.26</td><td style=\"text-align: right;\">       0.44</td><td style=\"text-align: right;\">     10.1</td><td style=\"text-align: right;\">        6</td></tr>\n",
       "<tr><td style=\"text-align: right;\">            7.2</td><td style=\"text-align: right;\">              0.23</td><td style=\"text-align: right;\">         0.32</td><td style=\"text-align: right;\">             8.5</td><td style=\"text-align: right;\">      0.058</td><td style=\"text-align: right;\">                   47</td><td style=\"text-align: right;\">                   186</td><td style=\"text-align: right;\">   0.9956</td><td style=\"text-align: right;\">3.19</td><td style=\"text-align: right;\">       0.4 </td><td style=\"text-align: right;\">      9.9</td><td style=\"text-align: right;\">        6</td></tr>\n",
       "<tr><td style=\"text-align: right;\">            7.2</td><td style=\"text-align: right;\">              0.23</td><td style=\"text-align: right;\">         0.32</td><td style=\"text-align: right;\">             8.5</td><td style=\"text-align: right;\">      0.058</td><td style=\"text-align: right;\">                   47</td><td style=\"text-align: right;\">                   186</td><td style=\"text-align: right;\">   0.9956</td><td style=\"text-align: right;\">3.19</td><td style=\"text-align: right;\">       0.4 </td><td style=\"text-align: right;\">      9.9</td><td style=\"text-align: right;\">        6</td></tr>\n",
       "</tbody>\n",
       "</table>"
      ]
     },
     "metadata": {},
     "output_type": "display_data"
    },
    {
     "data": {
      "text/plain": []
     },
     "execution_count": 11,
     "metadata": {},
     "output_type": "execute_result"
    }
   ],
   "source": [
    "wine_data.head(5)# The default head() command displays the first 10 rows."
   ]
  },
  {
   "cell_type": "markdown",
   "metadata": {},
   "source": [
    "## 2.2. EDA"
   ]
  },
  {
   "cell_type": "code",
   "execution_count": 12,
   "metadata": {},
   "outputs": [
    {
     "name": "stdout",
     "output_type": "stream",
     "text": [
      "Rows:4898\n",
      "Cols:12\n",
      "\n",
      "\n"
     ]
    },
    {
     "data": {
      "text/html": [
       "<table>\n",
       "<thead>\n",
       "<tr><th>       </th><th>fixed acidity     </th><th>volatile acidity   </th><th>citric acid        </th><th>residual sugar   </th><th>chlorides           </th><th>free sulfur dioxide  </th><th>total sulfur dioxide  </th><th>density              </th><th>pH                 </th><th>sulphates         </th><th>alcohol          </th><th>quality           </th></tr>\n",
       "</thead>\n",
       "<tbody>\n",
       "<tr><td>type   </td><td>real              </td><td>real               </td><td>real               </td><td>real             </td><td>real                </td><td>real                 </td><td>real                  </td><td>real                 </td><td>real               </td><td>real              </td><td>real             </td><td>int               </td></tr>\n",
       "<tr><td>mins   </td><td>3.8               </td><td>0.08               </td><td>0.0                </td><td>0.6              </td><td>0.009               </td><td>2.0                  </td><td>9.0                   </td><td>0.98711              </td><td>2.72               </td><td>0.22              </td><td>8.0              </td><td>3.0               </td></tr>\n",
       "<tr><td>mean   </td><td>6.854787668436097 </td><td>0.27824111882400987</td><td>0.33419150673744386</td><td>6.391414863209474</td><td>0.045772356063699476</td><td>35.30808493262556    </td><td>138.36065741118824    </td><td>0.9940273764801961   </td><td>3.1882666394446706 </td><td>0.489846876276031 </td><td>10.5142670477746 </td><td>5.87790935075541  </td></tr>\n",
       "<tr><td>maxs   </td><td>14.2              </td><td>1.1                </td><td>1.66               </td><td>65.8             </td><td>0.346               </td><td>289.0                </td><td>440.0                 </td><td>1.03898              </td><td>3.82               </td><td>1.08              </td><td>14.2             </td><td>9.0               </td></tr>\n",
       "<tr><td>sigma  </td><td>0.8438682276875132</td><td>0.10079454842486534</td><td>0.12101980420298251</td><td>5.072057784014881</td><td>0.021847968093728798</td><td>17.00713732523259    </td><td>42.498064554142914    </td><td>0.0029909069169369393</td><td>0.15100059961506673</td><td>0.1141258339488323</td><td>1.230620567757318</td><td>0.8856385749678309</td></tr>\n",
       "<tr><td>zeros  </td><td>0                 </td><td>0                  </td><td>19                 </td><td>0                </td><td>0                   </td><td>0                    </td><td>0                     </td><td>0                    </td><td>0                  </td><td>0                 </td><td>0                </td><td>0                 </td></tr>\n",
       "<tr><td>missing</td><td>0                 </td><td>0                  </td><td>0                  </td><td>0                </td><td>0                   </td><td>0                    </td><td>0                     </td><td>0                    </td><td>0                  </td><td>0                 </td><td>0                </td><td>0                 </td></tr>\n",
       "<tr><td>0      </td><td>7.0               </td><td>0.27               </td><td>0.36               </td><td>20.7             </td><td>0.045               </td><td>45.0                 </td><td>170.0                 </td><td>1.001                </td><td>3.0                </td><td>0.45              </td><td>8.8              </td><td>6.0               </td></tr>\n",
       "<tr><td>1      </td><td>6.3               </td><td>0.3                </td><td>0.34               </td><td>1.6              </td><td>0.049               </td><td>14.0                 </td><td>132.0                 </td><td>0.994                </td><td>3.3                </td><td>0.49              </td><td>9.5              </td><td>6.0               </td></tr>\n",
       "<tr><td>2      </td><td>8.1               </td><td>0.28               </td><td>0.4                </td><td>6.9              </td><td>0.05                </td><td>30.0                 </td><td>97.0                  </td><td>0.9951               </td><td>3.26               </td><td>0.44              </td><td>10.1             </td><td>6.0               </td></tr>\n",
       "<tr><td>3      </td><td>7.2               </td><td>0.23               </td><td>0.32               </td><td>8.5              </td><td>0.058               </td><td>47.0                 </td><td>186.0                 </td><td>0.9956               </td><td>3.19               </td><td>0.4               </td><td>9.9              </td><td>6.0               </td></tr>\n",
       "<tr><td>4      </td><td>7.2               </td><td>0.23               </td><td>0.32               </td><td>8.5              </td><td>0.058               </td><td>47.0                 </td><td>186.0                 </td><td>0.9956               </td><td>3.19               </td><td>0.4               </td><td>9.9              </td><td>6.0               </td></tr>\n",
       "<tr><td>5      </td><td>8.1               </td><td>0.28               </td><td>0.4                </td><td>6.9              </td><td>0.05                </td><td>30.0                 </td><td>97.0                  </td><td>0.9951               </td><td>3.26               </td><td>0.44              </td><td>10.1             </td><td>6.0               </td></tr>\n",
       "<tr><td>6      </td><td>6.2               </td><td>0.32               </td><td>0.16               </td><td>7.0              </td><td>0.045               </td><td>30.0                 </td><td>136.0                 </td><td>0.9949               </td><td>3.18               </td><td>0.47              </td><td>9.6              </td><td>6.0               </td></tr>\n",
       "<tr><td>7      </td><td>7.0               </td><td>0.27               </td><td>0.36               </td><td>20.7             </td><td>0.045               </td><td>45.0                 </td><td>170.0                 </td><td>1.001                </td><td>3.0                </td><td>0.45              </td><td>8.8              </td><td>6.0               </td></tr>\n",
       "<tr><td>8      </td><td>6.3               </td><td>0.3                </td><td>0.34               </td><td>1.6              </td><td>0.049               </td><td>14.0                 </td><td>132.0                 </td><td>0.994                </td><td>3.3                </td><td>0.49              </td><td>9.5              </td><td>6.0               </td></tr>\n",
       "<tr><td>9      </td><td>8.1               </td><td>0.22               </td><td>0.43               </td><td>1.5              </td><td>0.044               </td><td>28.0                 </td><td>129.0                 </td><td>0.9938               </td><td>3.22               </td><td>0.45              </td><td>11.0             </td><td>6.0               </td></tr>\n",
       "</tbody>\n",
       "</table>"
      ]
     },
     "metadata": {},
     "output_type": "display_data"
    }
   ],
   "source": [
    "wine_data.describe()"
   ]
  },
  {
   "cell_type": "code",
   "execution_count": 13,
   "metadata": {},
   "outputs": [
    {
     "name": "stderr",
     "output_type": "stream",
     "text": [
      "WARNING:matplotlib.style.core:In C:\\ProgramData\\Anaconda3\\lib\\site-packages\\matplotlib\\mpl-data\\stylelib\\_classic_test.mplstyle: \n",
      "The text.latex.preview rcparam was deprecated in Matplotlib 3.3 and will be removed two minor releases later.\n",
      "WARNING:matplotlib.style.core:In C:\\ProgramData\\Anaconda3\\lib\\site-packages\\matplotlib\\mpl-data\\stylelib\\_classic_test.mplstyle: \n",
      "The mathtext.fallback_to_cm rcparam was deprecated in Matplotlib 3.3 and will be removed two minor releases later.\n",
      "WARNING:matplotlib.style.core:In C:\\ProgramData\\Anaconda3\\lib\\site-packages\\matplotlib\\mpl-data\\stylelib\\_classic_test.mplstyle: Support for setting the 'mathtext.fallback_to_cm' rcParam is deprecated since 3.3 and will be removed two minor releases later; use 'mathtext.fallback : 'cm' instead.\n",
      "WARNING:matplotlib.style.core:In C:\\ProgramData\\Anaconda3\\lib\\site-packages\\matplotlib\\mpl-data\\stylelib\\_classic_test.mplstyle: \n",
      "The validate_bool_maybe_none function was deprecated in Matplotlib 3.3 and will be removed two minor releases later.\n",
      "WARNING:matplotlib.style.core:In C:\\ProgramData\\Anaconda3\\lib\\site-packages\\matplotlib\\mpl-data\\stylelib\\_classic_test.mplstyle: \n",
      "The savefig.jpeg_quality rcparam was deprecated in Matplotlib 3.3 and will be removed two minor releases later.\n",
      "WARNING:matplotlib.style.core:In C:\\ProgramData\\Anaconda3\\lib\\site-packages\\matplotlib\\mpl-data\\stylelib\\_classic_test.mplstyle: \n",
      "The keymap.all_axes rcparam was deprecated in Matplotlib 3.3 and will be removed two minor releases later.\n",
      "WARNING:matplotlib.style.core:In C:\\ProgramData\\Anaconda3\\lib\\site-packages\\matplotlib\\mpl-data\\stylelib\\_classic_test.mplstyle: \n",
      "The animation.avconv_path rcparam was deprecated in Matplotlib 3.3 and will be removed two minor releases later.\n",
      "WARNING:matplotlib.style.core:In C:\\ProgramData\\Anaconda3\\lib\\site-packages\\matplotlib\\mpl-data\\stylelib\\_classic_test.mplstyle: \n",
      "The animation.avconv_args rcparam was deprecated in Matplotlib 3.3 and will be removed two minor releases later.\n"
     ]
    },
    {
     "data": {
      "text/plain": [
       "<Figure size 1000x1000 with 2 Axes>"
      ]
     },
     "metadata": {},
     "output_type": "display_data"
    }
   ],
   "source": [
    "import matplotlib.pyplot as plt\n",
    "import seaborn as sns\n",
    "plt.figure(figsize=(10,10))\n",
    "corr = wine_data.cor().as_data_frame()\n",
    "corr.index = wine_data.columns\n",
    "sns.heatmap(corr, annot = True, cmap='RdYlGn', vmin=-1, vmax=1)\n",
    "plt.title(\"Correlation Heatmap\", fontsize=16)\n",
    "plt.show()"
   ]
  },
  {
   "cell_type": "markdown",
   "metadata": {},
   "source": [
    "# 3. Modeling with H2O"
   ]
  },
  {
   "cell_type": "markdown",
   "metadata": {},
   "source": [
    "## 3.1. Splitting data into Test and Training sets"
   ]
  },
  {
   "cell_type": "code",
   "execution_count": 14,
   "metadata": {},
   "outputs": [],
   "source": [
    "wine_split = wine_data.split_frame(ratios = [0.8], seed = 1234) \n",
    "wine_train = wine_split[0] # using 80% for training\n",
    "wine_test = wine_split[1] #rest 20% for testingprint(wine_train.shape, wine_test.shape)"
   ]
  },
  {
   "cell_type": "markdown",
   "metadata": {},
   "source": [
    "## 3.2. Defining Predictor Variables"
   ]
  },
  {
   "cell_type": "code",
   "execution_count": 15,
   "metadata": {},
   "outputs": [
    {
     "data": {
      "text/plain": [
       "['fixed acidity',\n",
       " 'volatile acidity',\n",
       " 'citric acid',\n",
       " 'residual sugar',\n",
       " 'chlorides',\n",
       " 'free sulfur dioxide',\n",
       " 'total sulfur dioxide',\n",
       " 'density',\n",
       " 'pH',\n",
       " 'sulphates',\n",
       " 'alcohol']"
      ]
     },
     "execution_count": 15,
     "metadata": {},
     "output_type": "execute_result"
    }
   ],
   "source": [
    "predictors = list(wine_data.columns) \n",
    "predictors.remove('quality')  # Since we need to predict quality\n",
    "predictors"
   ]
  },
  {
   "cell_type": "markdown",
   "metadata": {},
   "source": [
    "## 3.3. Generalized Linear Model"
   ]
  },
  {
   "cell_type": "code",
   "execution_count": 16,
   "metadata": {},
   "outputs": [
    {
     "name": "stdout",
     "output_type": "stream",
     "text": [
      "glm Model Build progress: |███████████████████████████████████████████████| 100%\n",
      "Model Details\n",
      "=============\n",
      "H2OGeneralizedLinearEstimator :  Generalized Linear Modeling\n",
      "Model Key:  glm_default\n",
      "\n",
      "\n",
      "GLM Model: summary\n"
     ]
    },
    {
     "data": {
      "text/html": [
       "<div>\n",
       "<style scoped>\n",
       "    .dataframe tbody tr th:only-of-type {\n",
       "        vertical-align: middle;\n",
       "    }\n",
       "\n",
       "    .dataframe tbody tr th {\n",
       "        vertical-align: top;\n",
       "    }\n",
       "\n",
       "    .dataframe thead th {\n",
       "        text-align: right;\n",
       "    }\n",
       "</style>\n",
       "<table border=\"1\" class=\"dataframe\">\n",
       "  <thead>\n",
       "    <tr style=\"text-align: right;\">\n",
       "      <th></th>\n",
       "      <th></th>\n",
       "      <th>family</th>\n",
       "      <th>link</th>\n",
       "      <th>regularization</th>\n",
       "      <th>number_of_predictors_total</th>\n",
       "      <th>number_of_active_predictors</th>\n",
       "      <th>number_of_iterations</th>\n",
       "      <th>training_frame</th>\n",
       "    </tr>\n",
       "  </thead>\n",
       "  <tbody>\n",
       "    <tr>\n",
       "      <td>0</td>\n",
       "      <td></td>\n",
       "      <td>gaussian</td>\n",
       "      <td>identity</td>\n",
       "      <td>Elastic Net (alpha = 0.5, lambda = 7.744E-4 )</td>\n",
       "      <td>11</td>\n",
       "      <td>11</td>\n",
       "      <td>1</td>\n",
       "      <td>py_4_sid_81fa</td>\n",
       "    </tr>\n",
       "  </tbody>\n",
       "</table>\n",
       "</div>"
      ],
      "text/plain": [
       "       family      link                                 regularization  \\\n",
       "0    gaussian  identity  Elastic Net (alpha = 0.5, lambda = 7.744E-4 )   \n",
       "\n",
       "   number_of_predictors_total number_of_active_predictors  \\\n",
       "0                          11                          11   \n",
       "\n",
       "   number_of_iterations training_frame  \n",
       "0                     1  py_4_sid_81fa  "
      ]
     },
     "metadata": {},
     "output_type": "display_data"
    },
    {
     "name": "stdout",
     "output_type": "stream",
     "text": [
      "\n",
      "\n",
      "ModelMetricsRegressionGLM: glm\n",
      "** Reported on train data. **\n",
      "\n",
      "MSE: 0.5663260600438998\n",
      "RMSE: 0.7525463839816785\n",
      "MAE: 0.5855739117180454\n",
      "RMSLE: 0.11135798916908808\n",
      "R^2: 0.28516909778802113\n",
      "Mean Residual Deviance: 0.5663260600438998\n",
      "Null degrees of freedom: 3931\n",
      "Residual degrees of freedom: 3920\n",
      "Null deviance: 3115.1340284842345\n",
      "Residual deviance: 2226.794068092614\n",
      "AIC: 8948.855269434112\n",
      "\n",
      "Scoring History: \n"
     ]
    },
    {
     "data": {
      "text/html": [
       "<div>\n",
       "<style scoped>\n",
       "    .dataframe tbody tr th:only-of-type {\n",
       "        vertical-align: middle;\n",
       "    }\n",
       "\n",
       "    .dataframe tbody tr th {\n",
       "        vertical-align: top;\n",
       "    }\n",
       "\n",
       "    .dataframe thead th {\n",
       "        text-align: right;\n",
       "    }\n",
       "</style>\n",
       "<table border=\"1\" class=\"dataframe\">\n",
       "  <thead>\n",
       "    <tr style=\"text-align: right;\">\n",
       "      <th></th>\n",
       "      <th></th>\n",
       "      <th>timestamp</th>\n",
       "      <th>duration</th>\n",
       "      <th>iterations</th>\n",
       "      <th>negative_log_likelihood</th>\n",
       "      <th>objective</th>\n",
       "      <th>training_rmse</th>\n",
       "      <th>training_deviance</th>\n",
       "      <th>training_mae</th>\n",
       "      <th>training_r2</th>\n",
       "    </tr>\n",
       "  </thead>\n",
       "  <tbody>\n",
       "    <tr>\n",
       "      <td>0</td>\n",
       "      <td></td>\n",
       "      <td>2020-10-13 19:08:45</td>\n",
       "      <td>0.000 sec</td>\n",
       "      <td>0</td>\n",
       "      <td>3115.134028</td>\n",
       "      <td>0.792252</td>\n",
       "      <td></td>\n",
       "      <td></td>\n",
       "      <td></td>\n",
       "      <td></td>\n",
       "    </tr>\n",
       "  </tbody>\n",
       "</table>\n",
       "</div>"
      ],
      "text/plain": [
       "               timestamp    duration  iterations  negative_log_likelihood  \\\n",
       "0    2020-10-13 19:08:45   0.000 sec           0              3115.134028   \n",
       "\n",
       "   objective training_rmse training_deviance training_mae training_r2  \n",
       "0   0.792252                                                           "
      ]
     },
     "metadata": {},
     "output_type": "display_data"
    },
    {
     "name": "stdout",
     "output_type": "stream",
     "text": [
      "\n"
     ]
    }
   ],
   "source": [
    "# Import the function for GLM\n",
    "from h2o.estimators.glm import H2OGeneralizedLinearEstimator# Set up GLM for regression\n",
    "glm = H2OGeneralizedLinearEstimator(family = 'gaussian', model_id = 'glm_default')# Use .train() to build the model\n",
    "glm.train(x = predictors, y = 'quality', training_frame = wine_train)\n",
    "print(glm)"
   ]
  },
  {
   "cell_type": "code",
   "execution_count": 17,
   "metadata": {},
   "outputs": [
    {
     "name": "stdout",
     "output_type": "stream",
     "text": [
      "\n",
      "ModelMetricsRegressionGLM: glm\n",
      "** Reported on test data. **\n",
      "\n",
      "MSE: 0.5546397919709445\n",
      "RMSE: 0.7447414262486978\n",
      "MAE: 0.5795791157106442\n",
      "RMSLE: 0.11079661971451729\n",
      "R^2: 0.26184927981796124\n",
      "Mean Residual Deviance: 0.5546397919709445\n",
      "Null degrees of freedom: 965\n",
      "Residual degrees of freedom: 954\n",
      "Null deviance: 725.858730540242\n",
      "Residual deviance: 535.7820390439324\n",
      "AIC: 2197.9936843132646\n"
     ]
    },
    {
     "data": {
      "text/plain": []
     },
     "execution_count": 17,
     "metadata": {},
     "output_type": "execute_result"
    }
   ],
   "source": [
    "glm.model_performance(wine_test)"
   ]
  },
  {
   "cell_type": "markdown",
   "metadata": {},
   "source": [
    "## 3.4. Making Predictions"
   ]
  },
  {
   "cell_type": "code",
   "execution_count": 18,
   "metadata": {},
   "outputs": [
    {
     "name": "stdout",
     "output_type": "stream",
     "text": [
      "glm prediction progress: |████████████████████████████████████████████████| 100%\n"
     ]
    },
    {
     "data": {
      "text/html": [
       "<table>\n",
       "<thead>\n",
       "<tr><th style=\"text-align: right;\">  predict</th></tr>\n",
       "</thead>\n",
       "<tbody>\n",
       "<tr><td style=\"text-align: right;\">  5.76109</td></tr>\n",
       "<tr><td style=\"text-align: right;\">  5.76721</td></tr>\n",
       "<tr><td style=\"text-align: right;\">  5.64325</td></tr>\n",
       "<tr><td style=\"text-align: right;\">  5.85764</td></tr>\n",
       "<tr><td style=\"text-align: right;\">  5.77967</td></tr>\n",
       "</tbody>\n",
       "</table>"
      ]
     },
     "metadata": {},
     "output_type": "display_data"
    },
    {
     "data": {
      "text/plain": []
     },
     "execution_count": 18,
     "metadata": {},
     "output_type": "execute_result"
    }
   ],
   "source": [
    "predictions = glm.predict(wine_test)\n",
    "predictions.head(5)"
   ]
  },
  {
   "cell_type": "markdown",
   "metadata": {},
   "source": [
    "# 4. 2OAutoML: Automatic Machine Learning"
   ]
  },
  {
   "cell_type": "code",
   "execution_count": 19,
   "metadata": {},
   "outputs": [],
   "source": [
    "from h2o.automl import H2OAutoML\n",
    "aml = H2OAutoML(max_models = 20, max_runtime_secs=100, seed = 1)"
   ]
  },
  {
   "cell_type": "markdown",
   "metadata": {},
   "source": [
    "## 4.1. Training"
   ]
  },
  {
   "cell_type": "code",
   "execution_count": 20,
   "metadata": {},
   "outputs": [
    {
     "name": "stdout",
     "output_type": "stream",
     "text": [
      "AutoML progress: |█\n",
      "19:09:06.152: User specified a validation frame with cross-validation still enabled. Please note that the models will still be validated using cross-validation only, the validation frame will be used to provide purely informative validation metrics on the trained models.\n",
      "19:09:06.190: AutoML: XGBoost is not available; skipping it.\n",
      "\n",
      "███████████████████████████████████████████████████████| 100%\n"
     ]
    }
   ],
   "source": [
    "aml.train(x=predictors, y='quality', training_frame=wine_train, validation_frame=wine_test)"
   ]
  },
  {
   "cell_type": "markdown",
   "metadata": {},
   "source": [
    "## 4.2. Leaderboard"
   ]
  },
  {
   "cell_type": "code",
   "execution_count": 21,
   "metadata": {},
   "outputs": [
    {
     "data": {
      "text/html": [
       "<table>\n",
       "<thead>\n",
       "<tr><th>model_id                                           </th><th style=\"text-align: right;\">  mean_residual_deviance</th><th style=\"text-align: right;\">    rmse</th><th style=\"text-align: right;\">     mse</th><th style=\"text-align: right;\">     mae</th><th style=\"text-align: right;\">    rmsle</th></tr>\n",
       "</thead>\n",
       "<tbody>\n",
       "<tr><td>StackedEnsemble_AllModels_AutoML_20201013_190906   </td><td style=\"text-align: right;\">                0.376039</td><td style=\"text-align: right;\">0.61322 </td><td style=\"text-align: right;\">0.376039</td><td style=\"text-align: right;\">0.433579</td><td style=\"text-align: right;\">0.0920946</td></tr>\n",
       "<tr><td>StackedEnsemble_BestOfFamily_AutoML_20201013_190906</td><td style=\"text-align: right;\">                0.376823</td><td style=\"text-align: right;\">0.613859</td><td style=\"text-align: right;\">0.376823</td><td style=\"text-align: right;\">0.429186</td><td style=\"text-align: right;\">0.0922581</td></tr>\n",
       "<tr><td>GBM_grid__1_AutoML_20201013_190906_model_2         </td><td style=\"text-align: right;\">                0.390259</td><td style=\"text-align: right;\">0.624707</td><td style=\"text-align: right;\">0.390259</td><td style=\"text-align: right;\">0.423369</td><td style=\"text-align: right;\">0.0939443</td></tr>\n",
       "<tr><td>XRT_1_AutoML_20201013_190906                       </td><td style=\"text-align: right;\">                0.395025</td><td style=\"text-align: right;\">0.62851 </td><td style=\"text-align: right;\">0.395025</td><td style=\"text-align: right;\">0.454681</td><td style=\"text-align: right;\">0.0945849</td></tr>\n",
       "<tr><td>GBM_4_AutoML_20201013_190906                       </td><td style=\"text-align: right;\">                0.418441</td><td style=\"text-align: right;\">0.64687 </td><td style=\"text-align: right;\">0.418441</td><td style=\"text-align: right;\">0.48677 </td><td style=\"text-align: right;\">0.0967323</td></tr>\n",
       "<tr><td>GBM_grid__1_AutoML_20201013_190906_model_4         </td><td style=\"text-align: right;\">                0.419258</td><td style=\"text-align: right;\">0.647501</td><td style=\"text-align: right;\">0.419258</td><td style=\"text-align: right;\">0.476754</td><td style=\"text-align: right;\">0.097125 </td></tr>\n",
       "<tr><td>GBM_grid__1_AutoML_20201013_190906_model_6         </td><td style=\"text-align: right;\">                0.419451</td><td style=\"text-align: right;\">0.64765 </td><td style=\"text-align: right;\">0.419451</td><td style=\"text-align: right;\">0.492594</td><td style=\"text-align: right;\">0.0967172</td></tr>\n",
       "<tr><td>DRF_1_AutoML_20201013_190906                       </td><td style=\"text-align: right;\">                0.422306</td><td style=\"text-align: right;\">0.649851</td><td style=\"text-align: right;\">0.422306</td><td style=\"text-align: right;\">0.468353</td><td style=\"text-align: right;\">0.0976615</td></tr>\n",
       "<tr><td>GBM_3_AutoML_20201013_190906                       </td><td style=\"text-align: right;\">                0.423183</td><td style=\"text-align: right;\">0.650525</td><td style=\"text-align: right;\">0.423183</td><td style=\"text-align: right;\">0.497953</td><td style=\"text-align: right;\">0.097283 </td></tr>\n",
       "<tr><td>GBM_2_AutoML_20201013_190906                       </td><td style=\"text-align: right;\">                0.438869</td><td style=\"text-align: right;\">0.662472</td><td style=\"text-align: right;\">0.438869</td><td style=\"text-align: right;\">0.51065 </td><td style=\"text-align: right;\">0.0989236</td></tr>\n",
       "</tbody>\n",
       "</table>"
      ]
     },
     "metadata": {},
     "output_type": "display_data"
    },
    {
     "name": "stdout",
     "output_type": "stream",
     "text": [
      "\n"
     ]
    }
   ],
   "source": [
    "print(aml.leaderboard)"
   ]
  },
  {
   "cell_type": "markdown",
   "metadata": {},
   "source": [
    "## 4.3. Contribution of Individual Models"
   ]
  },
  {
   "cell_type": "code",
   "execution_count": 22,
   "metadata": {},
   "outputs": [
    {
     "data": {
      "image/png": "[encoded data removed]",
      "text/plain": [
       "<Figure size 1008x720 with 1 Axes>"
      ]
     },
     "metadata": {
      "needs_background": "light"
     },
     "output_type": "display_data"
    }
   ],
   "source": [
    "metalearner = h2o.get_model(aml.leader.metalearner()['name'])\n",
    "metalearner.std_coef_plot()"
   ]
  },
  {
   "cell_type": "markdown",
   "metadata": {},
   "source": [
    "## 4.4. Predictions"
   ]
  },
  {
   "cell_type": "code",
   "execution_count": 23,
   "metadata": {},
   "outputs": [
    {
     "name": "stdout",
     "output_type": "stream",
     "text": [
      "stackedensemble prediction progress: |████████████████████████████████████| 100%\n"
     ]
    }
   ],
   "source": [
    "preds = aml.leader.predict(wine_test)"
   ]
  },
  {
   "cell_type": "markdown",
   "metadata": {},
   "source": [
    "## 4.5. Shutting Down"
   ]
  },
  {
   "cell_type": "code",
   "execution_count": 24,
   "metadata": {},
   "outputs": [
    {
     "name": "stderr",
     "output_type": "stream",
     "text": [
      "C:\\ProgramData\\Anaconda3\\lib\\site-packages\\ipykernel_launcher.py:1: DeprecationWarning: Deprecated, use ``h2o.cluster().shutdown()``.\n",
      "  \"\"\"Entry point for launching an IPython kernel.\n"
     ]
    },
    {
     "name": "stdout",
     "output_type": "stream",
     "text": [
      "H2O session _sid_81fa closed.\n"
     ]
    }
   ],
   "source": [
    "h2o.shutdown()"
   ]
  }
 ],
 "metadata": {
  "kernelspec": {
   "display_name": "Python 3",
   "language": "python",
   "name": "python3"
  },
  "language_info": {
   "codemirror_mode": {
    "name": "ipython",
    "version": 3
   },
   "file_extension": ".py",
   "mimetype": "text/x-python",
   "name": "python",
   "nbconvert_exporter": "python",
   "pygments_lexer": "ipython3",
   "version": "3.7.4"
  }
 },
 "nbformat": 4,
 "nbformat_minor": 4
}
